{
 "cells": [
  {
   "cell_type": "code",
   "execution_count": 46,
   "metadata": {},
   "outputs": [],
   "source": [
    "import numpy as np"
   ]
  },
  {
   "cell_type": "code",
   "execution_count": 2,
   "metadata": {
    "scrolled": true
   },
   "outputs": [
    {
     "name": "stdout",
     "output_type": "stream",
     "text": [
      "[2 3 4]\n"
     ]
    }
   ],
   "source": [
    "array_1d = np.array([2,3,4])\n",
    "print(array_1d)"
   ]
  },
  {
   "cell_type": "code",
   "execution_count": 7,
   "metadata": {},
   "outputs": [
    {
     "data": {
      "text/plain": [
       "array([[[0, 0, 0],\n",
       "        [0, 0, 0],\n",
       "        [0, 0, 0],\n",
       "        [0, 0, 0],\n",
       "        [0, 0, 0]],\n",
       "\n",
       "       [[0, 0, 0],\n",
       "        [0, 0, 0],\n",
       "        [0, 0, 0],\n",
       "        [0, 0, 0],\n",
       "        [0, 0, 0]],\n",
       "\n",
       "       [[0, 0, 0],\n",
       "        [0, 0, 0],\n",
       "        [0, 0, 0],\n",
       "        [0, 0, 0],\n",
       "        [0, 0, 0]],\n",
       "\n",
       "       [[0, 0, 0],\n",
       "        [0, 0, 0],\n",
       "        [0, 0, 0],\n",
       "        [0, 0, 0],\n",
       "        [0, 0, 0]]])"
      ]
     },
     "execution_count": 7,
     "metadata": {},
     "output_type": "execute_result"
    }
   ],
   "source": [
    "np.zeros((4,5,3),dtype=np.int)"
   ]
  },
  {
   "cell_type": "code",
   "execution_count": 9,
   "metadata": {},
   "outputs": [
    {
     "name": "stdout",
     "output_type": "stream",
     "text": [
      "[[5 5 5 5 5]\n",
      " [5 5 5 5 5]\n",
      " [5 5 5 5 5]\n",
      " [5 5 5 5 5]\n",
      " [5 5 5 5 5]]\n"
     ]
    }
   ],
   "source": [
    "array = np.full((5,5), 5,dtype=np.int)\n",
    "print(array)"
   ]
  },
  {
   "cell_type": "code",
   "execution_count": 11,
   "metadata": {},
   "outputs": [
    {
     "name": "stdout",
     "output_type": "stream",
     "text": [
      "[ 5 10 15 20 25 30 35 40 45 50]\n"
     ]
    }
   ],
   "source": [
    "array_multipleof5 = np.arange(5,55,5,dtype=np.int)\n",
    "print(array_multipleof5)"
   ]
  },
  {
   "cell_type": "code",
   "execution_count": 14,
   "metadata": {},
   "outputs": [
    {
     "name": "stdout",
     "output_type": "stream",
     "text": [
      "[[0 1 0 1]\n",
      " [1 0 1 0]\n",
      " [0 1 0 1]\n",
      " [1 0 1 0]]\n"
     ]
    }
   ],
   "source": [
    "array = [[0,1],[1,0]]\n",
    "n=4\n",
    "board = np.tile(array,(n//2,n//2))\n",
    "print(board)"
   ]
  },
  {
   "cell_type": "code",
   "execution_count": 17,
   "metadata": {},
   "outputs": [
    {
     "data": {
      "text/plain": [
       "2"
      ]
     },
     "execution_count": 17,
     "metadata": {},
     "output_type": "execute_result"
    }
   ],
   "source": [
    "list_1=[1,2]\n",
    "list_2 = [2,3]\n",
    "array_1 = np.asarray([list_1,list_2])\n",
    "len(array_1)\n"
   ]
  },
  {
   "cell_type": "code",
   "execution_count": 48,
   "metadata": {},
   "outputs": [
    {
     "name": "stdout",
     "output_type": "stream",
     "text": [
      "[1]\n",
      "[1 2 3 4 5]\n",
      "[5]\n",
      "[1 2 3 4 5]\n"
     ]
    }
   ],
   "source": [
    "input_list=[[1,2,3,4,5]]\n",
    "array_2d =np.array(input_list)\n",
    "\n",
    "\n",
    "rows = len(array_2d[:, 0])\n",
    "cols = len(array_2d[0, :])\n",
    "\n",
    "\n",
    "col_first = array_2d[:,0]\n",
    "row_first = array_2d[0,:]\n",
    "col_last = array_2d[:,cols-1]\n",
    "row_last = array_2d[rows-1,:]\n",
    "\n",
    "print(col_first)\n",
    "print(row_first)\n",
    "print(col_last)\n",
    "print(row_last)"
   ]
  },
  {
   "cell_type": "code",
   "execution_count": 49,
   "metadata": {},
   "outputs": [],
   "source": [
    "import pandas as pd"
   ]
  },
  {
   "cell_type": "code",
   "execution_count": 53,
   "metadata": {},
   "outputs": [],
   "source": [
    "series = pd.Series(range(1,5),range(1,5))"
   ]
  },
  {
   "cell_type": "code",
   "execution_count": 54,
   "metadata": {
    "scrolled": false
   },
   "outputs": [
    {
     "name": "stdout",
     "output_type": "stream",
     "text": [
      "1    1\n",
      "2    2\n",
      "3    3\n",
      "4    4\n",
      "dtype: int64\n"
     ]
    }
   ],
   "source": [
    "print(series)"
   ]
  },
  {
   "cell_type": "code",
   "execution_count": 55,
   "metadata": {},
   "outputs": [
    {
     "name": "stdout",
     "output_type": "stream",
     "text": [
      "     X  Y month  day  FFMC    DMC     DC   ISI  temp  RH  wind  rain   area\n",
      "241  4  4   apr  fri  83.0   23.3   85.3   2.3  16.7  20   3.1   0.0   0.00\n",
      "442  6  5   apr  mon  87.9   24.9   41.6   3.7  10.9  64   3.1   0.0   3.35\n",
      "19   6  4   apr  sat  86.3   27.4   97.1   5.1   9.3  44   4.5   0.0   0.00\n",
      "239  7  5   apr  sun  81.9    3.0    7.9   3.5  13.4  75   1.8   0.0   0.00\n",
      "469  6  3   apr  sun  91.0   14.6   25.6  12.3  13.7  33   9.4   0.0  61.13\n",
      "470  5  4   apr  sun  91.0   14.6   25.6  12.3  17.6  27   5.8   0.0   0.00\n",
      "176  6  5   apr  thu  81.5    9.1   55.2   2.7   5.8  54   5.8   0.0   4.61\n",
      "196  6  5   apr  thu  81.5    9.1   55.2   2.7   5.8  54   5.8   0.0  10.93\n",
      "240  6  3   apr  wed  88.0   17.2   43.5   3.8  15.2  51   2.7   0.0   0.00\n",
      "12   6  5   aug  fri  63.5   70.8  665.3   0.8  17.0  72   6.7   0.0   0.00\n",
      "78   1  2   aug  fri  90.1  108.0  529.8  12.5  14.7  66   2.7   0.0   0.00\n",
      "142  8  6   aug  fri  90.1  108.0  529.8  12.5  21.2  51   8.9   0.0   0.61\n",
      "184  8  6   aug  fri  93.9  135.7  586.7  15.1  20.8  34   4.9   0.0   6.96\n",
      "195  2  5   aug  fri  93.9  135.7  586.7  15.1  23.5  36   5.4   0.0  10.02\n",
      "261  3  4   aug  fri  91.6  112.4  573.0   8.9  11.2  84   7.6   0.0   3.30\n",
      "262  2  4   aug  fri  91.6  112.4  573.0   8.9  21.4  42   3.1   0.0   4.25\n",
      "263  6  3   aug  fri  91.1  141.1  629.1   7.1  19.3  39   3.6   0.0   1.56\n",
      "264  4  4   aug  fri  94.3  167.6  684.4  13.0  21.8  53   3.1   0.0   6.54\n",
      "388  6  4   aug  fri  94.8  227.0  706.7  12.0  23.3  34   3.1   0.0  28.74\n",
      "389  7  4   aug  fri  94.8  227.0  706.7  12.0  23.3  34   3.1   0.0   0.00\n"
     ]
    }
   ],
   "source": [
    "df = pd.read_csv('https://query.data.world/s/vBDCsoHCytUSLKkLvq851k2b8JOCkF')\n",
    "df_2 = df.sort_values(['month','day'])\n",
    "print(df_2.head(20))"
   ]
  },
  {
   "cell_type": "code",
   "execution_count": 75,
   "metadata": {},
   "outputs": [
    {
     "name": "stdout",
     "output_type": "stream",
     "text": [
      " Country  Medals\n",
      "     USA    72.0\n",
      "  France    53.0\n",
      "      UK    27.0\n",
      "  Russia    25.0\n",
      " Germany    20.0\n"
     ]
    }
   ],
   "source": [
    "import numpy as np \n",
    "import pandas as pd\n",
    "\n",
    "# Defining the three dataframes indicating the gold, silver, and bronze medal counts\n",
    "# of different countries\n",
    "gold = pd.DataFrame({'Country': ['USA', 'France', 'Russia'],\n",
    "                         'Medals': [15, 13, 9]}\n",
    "                    )\n",
    "silver = pd.DataFrame({'Country': ['USA', 'Germany', 'Russia'],\n",
    "                        'Medals': [29, 20, 16]}\n",
    "                    )\n",
    "bronze = pd.DataFrame({'Country': ['France', 'USA', 'UK'],\n",
    "                        'Medals': [40, 28, 27]}\n",
    "                        \n",
    "                    )\n",
    "\n",
    "df=pd.merge(pd.merge(gold,silver,how='outer',on='Country'),bronze,how='outer',on='Country')\n",
    "df.fillna(0,inplace=True)\n",
    "df['Medals'] = df.sum(axis=1)\n",
    "df.drop(df.columns[[1, 2]], axis=1,inplace=True)\n",
    "\n",
    "print(df.sort_values('Medals',ascending=False).to_string(index=False))\n",
    "\n"
   ]
  },
  {
   "cell_type": "code",
   "execution_count": 13,
   "metadata": {
    "scrolled": true
   },
   "outputs": [
    {
     "name": "stdout",
     "output_type": "stream",
     "text": [
      "               rain      wind\n",
      "month day                    \n",
      "apr   fri  0.000000  3.100000\n",
      "      mon  0.000000  3.100000\n",
      "      sat  0.000000  4.500000\n",
      "      sun  0.000000  5.666667\n",
      "      thu  0.000000  5.800000\n",
      "      wed  0.000000  2.700000\n",
      "aug   fri  0.066667  4.766667\n",
      "      mon  0.000000  2.873333\n",
      "      sat  0.000000  4.310345\n",
      "      sun  0.025000  4.417500\n",
      "      thu  0.000000  3.503846\n",
      "      tue  0.300000  4.567857\n",
      "      wed  0.000000  3.520000\n",
      "dec   fri  0.000000  4.900000\n",
      "      mon  0.000000  8.500000\n",
      "      sun  0.000000  8.500000\n",
      "      thu  0.000000  4.900000\n",
      "      tue  0.000000  8.500000\n",
      "      wed  0.000000  8.000000\n",
      "feb   fri  0.000000  4.820000\n",
      "      mon  0.000000  4.500000\n",
      "      sat  0.000000  2.350000\n",
      "      sun  0.000000  2.550000\n",
      "      thu  0.000000  3.100000\n",
      "      tue  0.000000  5.850000\n",
      "      wed  0.000000  3.100000\n",
      "jan   sat  0.000000  3.100000\n",
      "      sun  0.000000  0.900000\n",
      "jul   fri  0.000000  4.300000\n",
      "      mon  0.000000  3.800000\n",
      "      sat  0.000000  2.250000\n",
      "      sun  0.000000  4.120000\n",
      "      thu  0.000000  3.566667\n",
      "      tue  0.000000  3.883333\n",
      "      wed  0.066667  6.266667\n",
      "jun   fri  0.000000  4.800000\n",
      "      mon  0.000000  4.766667\n",
      "      sat  0.000000  2.900000\n",
      "      sun  0.000000  2.450000\n",
      "      thu  0.000000  6.050000\n",
      "      wed  0.000000  4.633333\n",
      "mar   fri  0.018182  5.863636\n",
      "      mon  0.000000  4.083333\n",
      "      sat  0.000000  5.010000\n",
      "      sun  0.000000  4.600000\n",
      "      thu  0.000000  4.480000\n",
      "      tue  0.000000  5.380000\n",
      "      wed  0.000000  5.800000\n",
      "may   fri  0.000000  4.000000\n",
      "      sat  0.000000  4.900000\n",
      "nov   tue  0.000000  4.500000\n",
      "oct   fri  0.000000  5.400000\n",
      "      mon  0.000000  4.350000\n",
      "      sat  0.000000  2.800000\n",
      "      sun  0.000000  3.000000\n",
      "      tue  0.000000  2.700000\n",
      "      wed  0.000000  3.150000\n",
      "sep   fri  0.000000  3.910526\n",
      "      mon  0.000000  3.107143\n",
      "      sat  0.000000  3.460000\n",
      "      sun  0.000000  3.955556\n",
      "      thu  0.000000  3.357143\n",
      "      tue  0.000000  3.431579\n",
      "      wed  0.000000  3.378571\n"
     ]
    }
   ],
   "source": [
    "import pandas as pd\n",
    "df = pd.read_csv('https://query.data.world/s/vBDCsoHCytUSLKkLvq851k2b8JOCkF')\n",
    "#Type your groupby command here\n",
    "df.head()\n",
    "df_month_day = df[['month','day','rain','wind']].groupby(['month','day'])\n",
    "\n",
    "print(df_month_day.mean().to_string())"
   ]
  },
  {
   "cell_type": "code",
   "execution_count": 16,
   "metadata": {},
   "outputs": [
    {
     "name": "stdout",
     "output_type": "stream",
     "text": [
      "    X  Y month  day  FFMC    DMC     DC   ISI  temp  RH  wind  rain  area  XY\n",
      "0   7  5   mar  fri  86.2   26.2   94.3   5.1   8.2  51   6.7   0.0   0.0  35\n",
      "1   7  4   oct  tue  90.6   35.4  669.1   6.7  18.0  33   0.9   0.0   0.0  28\n",
      "2   7  4   oct  sat  90.6   43.7  686.9   6.7  14.6  33   1.3   0.0   0.0  28\n",
      "3   8  6   mar  fri  91.7   33.3   77.5   9.0   8.3  97   4.0   0.2   0.0  48\n",
      "4   8  6   mar  sun  89.3   51.3  102.2   9.6  11.4  99   1.8   0.0   0.0  48\n",
      "5   8  6   aug  sun  92.3   85.3  488.0  14.7  22.2  29   5.4   0.0   0.0  48\n",
      "6   8  6   aug  mon  92.3   88.9  495.6   8.5  24.1  27   3.1   0.0   0.0  48\n",
      "7   8  6   aug  mon  91.5  145.4  608.2  10.7   8.0  86   2.2   0.0   0.0  48\n",
      "8   8  6   sep  tue  91.0  129.5  692.6   7.0  13.1  63   5.4   0.0   0.0  48\n",
      "9   7  5   sep  sat  92.5   88.0  698.6   7.1  22.8  40   4.0   0.0   0.0  35\n",
      "10  7  5   sep  sat  92.5   88.0  698.6   7.1  17.8  51   7.2   0.0   0.0  35\n",
      "11  7  5   sep  sat  92.8   73.2  713.0  22.6  19.3  38   4.0   0.0   0.0  35\n",
      "12  6  5   aug  fri  63.5   70.8  665.3   0.8  17.0  72   6.7   0.0   0.0  30\n",
      "13  6  5   sep  mon  90.9  126.5  686.5   7.0  21.3  42   2.2   0.0   0.0  30\n",
      "14  6  5   sep  wed  92.9  133.3  699.6   9.2  26.4  21   4.5   0.0   0.0  30\n",
      "15  6  5   sep  fri  93.3  141.2  713.9  13.9  22.9  44   5.4   0.0   0.0  30\n",
      "16  5  5   mar  sat  91.7   35.8   80.8   7.8  15.1  27   5.4   0.0   0.0  25\n",
      "17  8  5   oct  mon  84.9   32.8  664.2   3.0  16.7  47   4.9   0.0   0.0  40\n",
      "18  6  4   mar  wed  89.2   27.9   70.8   6.3  15.9  35   4.0   0.0   0.0  24\n",
      "19  6  4   apr  sat  86.3   27.4   97.1   5.1   9.3  44   4.5   0.0   0.0  24\n"
     ]
    }
   ],
   "source": [
    "import pandas as pd\n",
    "df = pd.read_csv('https://query.data.world/s/vBDCsoHCytUSLKkLvq851k2b8JOCkF')\n",
    "df['XY'] = df['X']*df['Y']\n",
    "print(df.head(20))"
   ]
  },
  {
   "cell_type": "code",
   "execution_count": 21,
   "metadata": {},
   "outputs": [
    {
     "name": "stdout",
     "output_type": "stream",
     "text": [
      "               rain      wind\n",
      "month day                    \n",
      "apr   fri  0.000000  3.100000\n",
      "      mon  0.000000  3.100000\n",
      "      sat  0.000000  4.500000\n",
      "      sun  0.000000  5.666667\n",
      "      thu  0.000000  5.800000\n",
      "      wed  0.000000  2.700000\n",
      "aug   fri  0.066667  4.766667\n",
      "      mon  0.000000  2.873333\n",
      "      sat  0.000000  4.310345\n",
      "      sun  0.025000  4.417500\n",
      "      thu  0.000000  3.503846\n",
      "      tue  0.300000  4.567857\n",
      "      wed  0.000000  3.520000\n",
      "dec   fri  0.000000  4.900000\n",
      "      mon  0.000000  8.500000\n",
      "      sun  0.000000  8.500000\n",
      "      thu  0.000000  4.900000\n",
      "      tue  0.000000  8.500000\n",
      "      wed  0.000000  8.000000\n",
      "feb   fri  0.000000  4.820000\n",
      "      mon  0.000000  4.500000\n",
      "      sat  0.000000  2.350000\n",
      "      sun  0.000000  2.550000\n",
      "      thu  0.000000  3.100000\n",
      "      tue  0.000000  5.850000\n",
      "      wed  0.000000  3.100000\n",
      "jan   sat  0.000000  3.100000\n",
      "      sun  0.000000  0.900000\n",
      "jul   fri  0.000000  4.300000\n",
      "      mon  0.000000  3.800000\n",
      "      sat  0.000000  2.250000\n",
      "      sun  0.000000  4.120000\n",
      "      thu  0.000000  3.566667\n",
      "      tue  0.000000  3.883333\n",
      "      wed  0.066667  6.266667\n",
      "jun   fri  0.000000  4.800000\n",
      "      mon  0.000000  4.766667\n",
      "      sat  0.000000  2.900000\n",
      "      sun  0.000000  2.450000\n",
      "      thu  0.000000  6.050000\n",
      "      wed  0.000000  4.633333\n",
      "mar   fri  0.018182  5.863636\n",
      "      mon  0.000000  4.083333\n",
      "      sat  0.000000  5.010000\n",
      "      sun  0.000000  4.600000\n",
      "      thu  0.000000  4.480000\n",
      "      tue  0.000000  5.380000\n",
      "      wed  0.000000  5.800000\n",
      "may   fri  0.000000  4.000000\n",
      "      sat  0.000000  4.900000\n",
      "nov   tue  0.000000  4.500000\n",
      "oct   fri  0.000000  5.400000\n",
      "      mon  0.000000  4.350000\n",
      "      sat  0.000000  2.800000\n",
      "      sun  0.000000  3.000000\n",
      "      tue  0.000000  2.700000\n",
      "      wed  0.000000  3.150000\n",
      "sep   fri  0.000000  3.910526\n",
      "      mon  0.000000  3.107143\n",
      "      sat  0.000000  3.460000\n",
      "      sun  0.000000  3.955556\n",
      "      thu  0.000000  3.357143\n",
      "      tue  0.000000  3.431579\n",
      "      wed  0.000000  3.378571\n"
     ]
    }
   ],
   "source": [
    "import pandas as pd\n",
    "df = pd.read_csv('https://query.data.world/s/vBDCsoHCytUSLKkLvq851k2b8JOCkF')\n",
    "\n",
    "df_month_day = df[['month','day','rain','wind']].pivot_table(index=['month','day'],aggfunc='mean')\n",
    "\n",
    "print(df_month_day.to_string())"
   ]
  },
  {
   "cell_type": "code",
   "execution_count": 23,
   "metadata": {},
   "outputs": [
    {
     "name": "stdout",
     "output_type": "stream",
     "text": [
      "Ord_id                   0\n",
      "Prod_id                  0\n",
      "Ship_id                  0\n",
      "Cust_id                  0\n",
      "Sales                   20\n",
      "Discount                55\n",
      "Order_Quantity          55\n",
      "Profit                  55\n",
      "Shipping_Cost           55\n",
      "Product_Base_Margin    109\n",
      "dtype: int64\n"
     ]
    }
   ],
   "source": [
    "import pandas as pd\n",
    "df = pd.read_csv('https://query.data.world/s/Hfu_PsEuD1Z_yJHmGaxWTxvkz7W_b0')\n",
    "print(df.isnull().sum())"
   ]
  },
  {
   "cell_type": "code",
   "execution_count": 24,
   "metadata": {},
   "outputs": [
    {
     "name": "stdout",
     "output_type": "stream",
     "text": [
      "[[9 9 3]\n",
      " [5 7 0]\n",
      " [4 3 1]\n",
      " [8 2 4]]\n"
     ]
    }
   ],
   "source": [
    "import numpy as np \n",
    "\n",
    "# Given array\n",
    "a = np.array([[4, 3, 1], [5, 7, 0], [9, 9, 3], [8, 2, 4]])\n",
    "\n",
    "# Read the values of m and n\n",
    "import sys\n",
    "lines = sys.stdin.readlines()\n",
    "m = 0\n",
    "n = 2\n",
    "\n",
    "\n",
    "a[[m, n]] = a[[n, m]]\n",
    "\n",
    "# Write your code for swapping here\n",
    "\n",
    "# Print the array after swapping\n",
    "print(a)"
   ]
  },
  {
   "cell_type": "code",
   "execution_count": 40,
   "metadata": {},
   "outputs": [
    {
     "name": "stdout",
     "output_type": "stream",
     "text": [
      "[[1 1 1]\n",
      " [1 0 0]\n",
      " [1 0 0]\n",
      " [1 0 0]\n",
      " [1 1 1]]\n"
     ]
    }
   ],
   "source": [
    "n=5\n",
    "array = np.full((n,n), 0,dtype=np.int)\n",
    "\n",
    "\n",
    "array[0, :] = np.ones(n,dtype=np.int)\n",
    "array[n-1, :] = np.ones(n,dtype=np.int)\n",
    "array[:, 0] = np.ones(n,dtype=np.int)\n",
    "array[:, n-1] = np.ones(n,dtype=np.int)\n",
    "print(array[:,:3])\n",
    "\n"
   ]
  },
  {
   "cell_type": "code",
   "execution_count": 44,
   "metadata": {},
   "outputs": [
    {
     "name": "stdout",
     "output_type": "stream",
     "text": [
      "[-2.   0.5 -1. ]\n"
     ]
    }
   ],
   "source": [
    "A = np.array([[2, 6, -1], \n",
    "              [1, 2, -2], \n",
    "              [-5, 0, 2]])\n",
    "b = np.array([0, 1, 8])\n",
    "\n",
    "# compute the inverse\n",
    "A_inv = np.linalg.inv(A)\n",
    "\n",
    "# solution: A_inv * b\n",
    "x = np.dot(A_inv, b)\n",
    "print(x) # returns [ 0.  0. -1.]"
   ]
  },
  {
   "cell_type": "code",
   "execution_count": 45,
   "metadata": {},
   "outputs": [
    {
     "name": "stdout",
     "output_type": "stream",
     "text": [
      "2\n"
     ]
    }
   ],
   "source": [
    "A = np.array([[2, -1, -1], \n",
    "              [2, -1, 1], \n",
    "              [4, -2, -3]])\n",
    "\n",
    "b = np.array([1, 0, -1])\n",
    "print(np.linalg.matrix_rank(A))"
   ]
  },
  {
   "cell_type": "code",
   "execution_count": 47,
   "metadata": {},
   "outputs": [
    {
     "name": "stdout",
     "output_type": "stream",
     "text": [
      "[-3. 13.]\n",
      "[[-0.70710678 -0.61394061]\n",
      " [ 0.70710678 -0.78935222]]\n"
     ]
    }
   ],
   "source": [
    "A = np.array([[4, 7], \n",
    "              [9, 6]])\n",
    "\n",
    "# c is the array of eigenvalues\n",
    "# v is the matrix with eigenvectors as the columns\n",
    "c, v = np.linalg.eig(A)\n",
    "print(c)\n",
    "print(v)"
   ]
  },
  {
   "cell_type": "code",
   "execution_count": null,
   "metadata": {},
   "outputs": [],
   "source": []
  },
  {
   "cell_type": "code",
   "execution_count": null,
   "metadata": {},
   "outputs": [],
   "source": []
  },
  {
   "cell_type": "code",
   "execution_count": null,
   "metadata": {},
   "outputs": [],
   "source": []
  }
 ],
 "metadata": {
  "kernelspec": {
   "display_name": "Python 3",
   "language": "python",
   "name": "python3"
  },
  "language_info": {
   "codemirror_mode": {
    "name": "ipython",
    "version": 3
   },
   "file_extension": ".py",
   "mimetype": "text/x-python",
   "name": "python",
   "nbconvert_exporter": "python",
   "pygments_lexer": "ipython3",
   "version": "3.7.4"
  },
  "toc": {
   "base_numbering": 1,
   "nav_menu": {},
   "number_sections": true,
   "sideBar": true,
   "skip_h1_title": false,
   "title_cell": "Table of Contents",
   "title_sidebar": "Contents",
   "toc_cell": false,
   "toc_position": {},
   "toc_section_display": true,
   "toc_window_display": false
  }
 },
 "nbformat": 4,
 "nbformat_minor": 2
}
